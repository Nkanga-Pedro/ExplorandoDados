{
  "cells": [
    {
      "cell_type": "markdown",
      "metadata": {
        "id": "view-in-github",
        "colab_type": "text"
      },
      "source": [
        "<a href=\"https://colab.research.google.com/github/Nkanga-Pedro/ExplorandoDados/blob/main/K_Modes.ipynb\" target=\"_parent\"><img src=\"https://colab.research.google.com/assets/colab-badge.svg\" alt=\"Open In Colab\"/></a>"
      ]
    },
    {
      "cell_type": "code",
      "execution_count": 3,
      "metadata": {
        "id": "tDMYxPIS-tiN"
      },
      "outputs": [],
      "source": [
        "import pandas as pd"
      ]
    },
    {
      "cell_type": "code",
      "execution_count": 4,
      "metadata": {
        "colab": {
          "base_uri": "https://localhost:8080/"
        },
        "id": "tPS77HLn_Fsr",
        "outputId": "f43a7035-3c9c-4308-956d-8ff2d722db92"
      },
      "outputs": [
        {
          "output_type": "stream",
          "name": "stderr",
          "text": [
            "/usr/local/lib/python3.8/dist-packages/IPython/core/interactiveshell.py:3326: DtypeWarning: Columns (48,49,50,51,52,53,57,58,59,84,95,96,97,98,99,100,101,102,103,104,105,106,107,108,109,110,111,112,113,114,115,116,117,118,119,120,121,122,123,124,125,126,127,128,129,130,131,132,133,134,135,136) have mixed types.Specify dtype option on import or set low_memory=False.\n",
            "  exec(code_obj, self.user_global_ns, self.user_ns)\n"
          ]
        }
      ],
      "source": [
        "dados = pd.read_table('/content/drive/MyDrive/dataset/microdados_enade_2019.txt',encoding='latin-1', sep=';')"
      ]
    },
    {
      "cell_type": "code",
      "execution_count": 26,
      "metadata": {
        "id": "mU-TmaPs_JMy"
      },
      "outputs": [],
      "source": [
        "dados_selecao=dados[['CO_UF_CURSO','CO_REGIAO_CURSO','NT_FG','NU_IDADE','TP_SEXO','QE_I01','QE_I02','QE_I03','QE_I04','QE_I05']]"
      ]
    },
    {
      "cell_type": "code",
      "execution_count": 27,
      "metadata": {
        "id": "ifDNn9x-_f44"
      },
      "outputs": [],
      "source": [
        "dados_selecao=dados_selecao.dropna(axis=0)"
      ]
    },
    {
      "cell_type": "code",
      "execution_count": 28,
      "metadata": {
        "id": "oTm4HjIJAHcX"
      },
      "outputs": [],
      "source": [
        "import gower\n",
        "import kmodes\n",
        "from sklearn.cluster import DBSCAN"
      ]
    },
    {
      "cell_type": "code",
      "execution_count": 29,
      "metadata": {
        "id": "jlM4msSuAKfo"
      },
      "outputs": [],
      "source": [
        "dados_amostra=dados_selecao.sample(frac=.2)\n",
        "dados_amostra=dados_amostra.head(100)"
      ]
    },
    {
      "cell_type": "code",
      "source": [
        "dados_amostra['NT_FG'] = dados_amostra['NT_FG'].astype(str)\n",
        "dados_amostra['NT_FG'] = dados_amostra['NT_FG'].str.replace(',', '.')\n",
        "dados_amostra['NT_FG'] = pd.to_numeric(dados_amostra['NT_FG'], errors='coerce')"
      ],
      "metadata": {
        "id": "OPV5V6a1zeyb"
      },
      "execution_count": 30,
      "outputs": []
    },
    {
      "cell_type": "code",
      "source": [
        "dados_amostra.head(2)"
      ],
      "metadata": {
        "colab": {
          "base_uri": "https://localhost:8080/",
          "height": 112
        },
        "id": "IaqljVkgzS-f",
        "outputId": "43d255d3-abf4-45b8-ded3-bfe02c642847"
      },
      "execution_count": 31,
      "outputs": [
        {
          "output_type": "execute_result",
          "data": {
            "text/plain": [
              "        CO_UF_CURSO  CO_REGIAO_CURSO  NT_FG  NU_IDADE TP_SEXO QE_I01 QE_I02  \\\n",
              "62633            35                3   50.9        35       F      B      A   \n",
              "394194           41                4   76.0        23       M      A      A   \n",
              "\n",
              "       QE_I03 QE_I04 QE_I05  \n",
              "62633       A      B      B  \n",
              "394194      A      B      F  "
            ],
            "text/html": [
              "\n",
              "  <div id=\"df-9c2be479-4550-4251-a658-8fcc5460859c\">\n",
              "    <div class=\"colab-df-container\">\n",
              "      <div>\n",
              "<style scoped>\n",
              "    .dataframe tbody tr th:only-of-type {\n",
              "        vertical-align: middle;\n",
              "    }\n",
              "\n",
              "    .dataframe tbody tr th {\n",
              "        vertical-align: top;\n",
              "    }\n",
              "\n",
              "    .dataframe thead th {\n",
              "        text-align: right;\n",
              "    }\n",
              "</style>\n",
              "<table border=\"1\" class=\"dataframe\">\n",
              "  <thead>\n",
              "    <tr style=\"text-align: right;\">\n",
              "      <th></th>\n",
              "      <th>CO_UF_CURSO</th>\n",
              "      <th>CO_REGIAO_CURSO</th>\n",
              "      <th>NT_FG</th>\n",
              "      <th>NU_IDADE</th>\n",
              "      <th>TP_SEXO</th>\n",
              "      <th>QE_I01</th>\n",
              "      <th>QE_I02</th>\n",
              "      <th>QE_I03</th>\n",
              "      <th>QE_I04</th>\n",
              "      <th>QE_I05</th>\n",
              "    </tr>\n",
              "  </thead>\n",
              "  <tbody>\n",
              "    <tr>\n",
              "      <th>62633</th>\n",
              "      <td>35</td>\n",
              "      <td>3</td>\n",
              "      <td>50.9</td>\n",
              "      <td>35</td>\n",
              "      <td>F</td>\n",
              "      <td>B</td>\n",
              "      <td>A</td>\n",
              "      <td>A</td>\n",
              "      <td>B</td>\n",
              "      <td>B</td>\n",
              "    </tr>\n",
              "    <tr>\n",
              "      <th>394194</th>\n",
              "      <td>41</td>\n",
              "      <td>4</td>\n",
              "      <td>76.0</td>\n",
              "      <td>23</td>\n",
              "      <td>M</td>\n",
              "      <td>A</td>\n",
              "      <td>A</td>\n",
              "      <td>A</td>\n",
              "      <td>B</td>\n",
              "      <td>F</td>\n",
              "    </tr>\n",
              "  </tbody>\n",
              "</table>\n",
              "</div>\n",
              "      <button class=\"colab-df-convert\" onclick=\"convertToInteractive('df-9c2be479-4550-4251-a658-8fcc5460859c')\"\n",
              "              title=\"Convert this dataframe to an interactive table.\"\n",
              "              style=\"display:none;\">\n",
              "        \n",
              "  <svg xmlns=\"http://www.w3.org/2000/svg\" height=\"24px\"viewBox=\"0 0 24 24\"\n",
              "       width=\"24px\">\n",
              "    <path d=\"M0 0h24v24H0V0z\" fill=\"none\"/>\n",
              "    <path d=\"M18.56 5.44l.94 2.06.94-2.06 2.06-.94-2.06-.94-.94-2.06-.94 2.06-2.06.94zm-11 1L8.5 8.5l.94-2.06 2.06-.94-2.06-.94L8.5 2.5l-.94 2.06-2.06.94zm10 10l.94 2.06.94-2.06 2.06-.94-2.06-.94-.94-2.06-.94 2.06-2.06.94z\"/><path d=\"M17.41 7.96l-1.37-1.37c-.4-.4-.92-.59-1.43-.59-.52 0-1.04.2-1.43.59L10.3 9.45l-7.72 7.72c-.78.78-.78 2.05 0 2.83L4 21.41c.39.39.9.59 1.41.59.51 0 1.02-.2 1.41-.59l7.78-7.78 2.81-2.81c.8-.78.8-2.07 0-2.86zM5.41 20L4 18.59l7.72-7.72 1.47 1.35L5.41 20z\"/>\n",
              "  </svg>\n",
              "      </button>\n",
              "      \n",
              "  <style>\n",
              "    .colab-df-container {\n",
              "      display:flex;\n",
              "      flex-wrap:wrap;\n",
              "      gap: 12px;\n",
              "    }\n",
              "\n",
              "    .colab-df-convert {\n",
              "      background-color: #E8F0FE;\n",
              "      border: none;\n",
              "      border-radius: 50%;\n",
              "      cursor: pointer;\n",
              "      display: none;\n",
              "      fill: #1967D2;\n",
              "      height: 32px;\n",
              "      padding: 0 0 0 0;\n",
              "      width: 32px;\n",
              "    }\n",
              "\n",
              "    .colab-df-convert:hover {\n",
              "      background-color: #E2EBFA;\n",
              "      box-shadow: 0px 1px 2px rgba(60, 64, 67, 0.3), 0px 1px 3px 1px rgba(60, 64, 67, 0.15);\n",
              "      fill: #174EA6;\n",
              "    }\n",
              "\n",
              "    [theme=dark] .colab-df-convert {\n",
              "      background-color: #3B4455;\n",
              "      fill: #D2E3FC;\n",
              "    }\n",
              "\n",
              "    [theme=dark] .colab-df-convert:hover {\n",
              "      background-color: #434B5C;\n",
              "      box-shadow: 0px 1px 3px 1px rgba(0, 0, 0, 0.15);\n",
              "      filter: drop-shadow(0px 1px 2px rgba(0, 0, 0, 0.3));\n",
              "      fill: #FFFFFF;\n",
              "    }\n",
              "  </style>\n",
              "\n",
              "      <script>\n",
              "        const buttonEl =\n",
              "          document.querySelector('#df-9c2be479-4550-4251-a658-8fcc5460859c button.colab-df-convert');\n",
              "        buttonEl.style.display =\n",
              "          google.colab.kernel.accessAllowed ? 'block' : 'none';\n",
              "\n",
              "        async function convertToInteractive(key) {\n",
              "          const element = document.querySelector('#df-9c2be479-4550-4251-a658-8fcc5460859c');\n",
              "          const dataTable =\n",
              "            await google.colab.kernel.invokeFunction('convertToInteractive',\n",
              "                                                     [key], {});\n",
              "          if (!dataTable) return;\n",
              "\n",
              "          const docLinkHtml = 'Like what you see? Visit the ' +\n",
              "            '<a target=\"_blank\" href=https://colab.research.google.com/notebooks/data_table.ipynb>data table notebook</a>'\n",
              "            + ' to learn more about interactive tables.';\n",
              "          element.innerHTML = '';\n",
              "          dataTable['output_type'] = 'display_data';\n",
              "          await google.colab.output.renderOutput(dataTable, element);\n",
              "          const docLink = document.createElement('div');\n",
              "          docLink.innerHTML = docLinkHtml;\n",
              "          element.appendChild(docLink);\n",
              "        }\n",
              "      </script>\n",
              "    </div>\n",
              "  </div>\n",
              "  "
            ]
          },
          "metadata": {},
          "execution_count": 31
        }
      ]
    },
    {
      "cell_type": "code",
      "execution_count": 32,
      "metadata": {
        "id": "eTUoSu7UANY6"
      },
      "outputs": [],
      "source": [
        "distance_matrix = gower.gower_matrix(dados_amostra)"
      ]
    },
    {
      "cell_type": "code",
      "source": [
        "# Configuring the parameters of the clustering algorithm\n",
        "dbscan_cluster = DBSCAN(eps=0.2, \n",
        "                        min_samples=2, \n",
        "                        metric=\"precomputed\")\n",
        "\n",
        "# Fitting the clustering algorithm\n",
        "dbscan_cluster.fit(distance_matrix)"
      ],
      "metadata": {
        "colab": {
          "base_uri": "https://localhost:8080/"
        },
        "id": "poE-Enmwzwn3",
        "outputId": "ca811abc-84fe-4037-d6c4-1f34cbc2eb50"
      },
      "execution_count": 38,
      "outputs": [
        {
          "output_type": "execute_result",
          "data": {
            "text/plain": [
              "DBSCAN(eps=0.2, metric='precomputed', min_samples=2)"
            ]
          },
          "metadata": {},
          "execution_count": 38
        }
      ]
    },
    {
      "cell_type": "code",
      "source": [
        "dados_amostra[\"cluster\"] = dbscan_cluster.labels_"
      ],
      "metadata": {
        "id": "Gj8tEc_K0J8W"
      },
      "execution_count": 39,
      "outputs": []
    },
    {
      "cell_type": "code",
      "source": [
        "dados_amostra.head(15)"
      ],
      "metadata": {
        "colab": {
          "base_uri": "https://localhost:8080/",
          "height": 520
        },
        "id": "kdyTn_c-0RIs",
        "outputId": "793c45ae-2901-45f6-d18a-0b4043851783"
      },
      "execution_count": 40,
      "outputs": [
        {
          "output_type": "execute_result",
          "data": {
            "text/plain": [
              "        CO_UF_CURSO  CO_REGIAO_CURSO  NT_FG  NU_IDADE TP_SEXO QE_I01 QE_I02  \\\n",
              "62633            35                3   50.9        35       F      B      A   \n",
              "394194           41                4   76.0        23       M      A      A   \n",
              "325672           35                3   53.2        23       M      A      D   \n",
              "213281           13                1   51.4        28       M      B      D   \n",
              "96097            35                3   55.3        29       F      A      A   \n",
              "209267           33                3   39.1        43       M      B      B   \n",
              "374826           29                2   34.3        22       F      E      D   \n",
              "427779           23                2   41.0        24       F      A      A   \n",
              "28048            52                5   37.9        26       F      A      A   \n",
              "238845           31                3   33.5        37       F      B      A   \n",
              "11795            35                3   39.7        29       M      A      A   \n",
              "79969            31                3   25.0        31       F      E      D   \n",
              "22550            35                3   45.5        23       F      A      A   \n",
              "147991           31                3   45.1        26       F      A      D   \n",
              "199030           42                4   33.1        22       M      A      A   \n",
              "\n",
              "       QE_I03 QE_I04 QE_I05  cluster  \n",
              "62633       A      B      B        0  \n",
              "394194      A      B      F        0  \n",
              "325672      A      B      B        0  \n",
              "213281      A      C      D        0  \n",
              "96097       A      B      B        0  \n",
              "209267      A      C      C       -1  \n",
              "374826      A      D      F        0  \n",
              "427779      A      D      D        0  \n",
              "28048       A      F      D        0  \n",
              "238845      A      D      D        0  \n",
              "11795       A      B      B        0  \n",
              "79969       A      B      C       -1  \n",
              "22550       A      D      D        0  \n",
              "147991      A      D      D        0  \n",
              "199030      A      C      D        0  "
            ],
            "text/html": [
              "\n",
              "  <div id=\"df-f58a31cd-f90e-425c-ac21-e9e966a921cb\">\n",
              "    <div class=\"colab-df-container\">\n",
              "      <div>\n",
              "<style scoped>\n",
              "    .dataframe tbody tr th:only-of-type {\n",
              "        vertical-align: middle;\n",
              "    }\n",
              "\n",
              "    .dataframe tbody tr th {\n",
              "        vertical-align: top;\n",
              "    }\n",
              "\n",
              "    .dataframe thead th {\n",
              "        text-align: right;\n",
              "    }\n",
              "</style>\n",
              "<table border=\"1\" class=\"dataframe\">\n",
              "  <thead>\n",
              "    <tr style=\"text-align: right;\">\n",
              "      <th></th>\n",
              "      <th>CO_UF_CURSO</th>\n",
              "      <th>CO_REGIAO_CURSO</th>\n",
              "      <th>NT_FG</th>\n",
              "      <th>NU_IDADE</th>\n",
              "      <th>TP_SEXO</th>\n",
              "      <th>QE_I01</th>\n",
              "      <th>QE_I02</th>\n",
              "      <th>QE_I03</th>\n",
              "      <th>QE_I04</th>\n",
              "      <th>QE_I05</th>\n",
              "      <th>cluster</th>\n",
              "    </tr>\n",
              "  </thead>\n",
              "  <tbody>\n",
              "    <tr>\n",
              "      <th>62633</th>\n",
              "      <td>35</td>\n",
              "      <td>3</td>\n",
              "      <td>50.9</td>\n",
              "      <td>35</td>\n",
              "      <td>F</td>\n",
              "      <td>B</td>\n",
              "      <td>A</td>\n",
              "      <td>A</td>\n",
              "      <td>B</td>\n",
              "      <td>B</td>\n",
              "      <td>0</td>\n",
              "    </tr>\n",
              "    <tr>\n",
              "      <th>394194</th>\n",
              "      <td>41</td>\n",
              "      <td>4</td>\n",
              "      <td>76.0</td>\n",
              "      <td>23</td>\n",
              "      <td>M</td>\n",
              "      <td>A</td>\n",
              "      <td>A</td>\n",
              "      <td>A</td>\n",
              "      <td>B</td>\n",
              "      <td>F</td>\n",
              "      <td>0</td>\n",
              "    </tr>\n",
              "    <tr>\n",
              "      <th>325672</th>\n",
              "      <td>35</td>\n",
              "      <td>3</td>\n",
              "      <td>53.2</td>\n",
              "      <td>23</td>\n",
              "      <td>M</td>\n",
              "      <td>A</td>\n",
              "      <td>D</td>\n",
              "      <td>A</td>\n",
              "      <td>B</td>\n",
              "      <td>B</td>\n",
              "      <td>0</td>\n",
              "    </tr>\n",
              "    <tr>\n",
              "      <th>213281</th>\n",
              "      <td>13</td>\n",
              "      <td>1</td>\n",
              "      <td>51.4</td>\n",
              "      <td>28</td>\n",
              "      <td>M</td>\n",
              "      <td>B</td>\n",
              "      <td>D</td>\n",
              "      <td>A</td>\n",
              "      <td>C</td>\n",
              "      <td>D</td>\n",
              "      <td>0</td>\n",
              "    </tr>\n",
              "    <tr>\n",
              "      <th>96097</th>\n",
              "      <td>35</td>\n",
              "      <td>3</td>\n",
              "      <td>55.3</td>\n",
              "      <td>29</td>\n",
              "      <td>F</td>\n",
              "      <td>A</td>\n",
              "      <td>A</td>\n",
              "      <td>A</td>\n",
              "      <td>B</td>\n",
              "      <td>B</td>\n",
              "      <td>0</td>\n",
              "    </tr>\n",
              "    <tr>\n",
              "      <th>209267</th>\n",
              "      <td>33</td>\n",
              "      <td>3</td>\n",
              "      <td>39.1</td>\n",
              "      <td>43</td>\n",
              "      <td>M</td>\n",
              "      <td>B</td>\n",
              "      <td>B</td>\n",
              "      <td>A</td>\n",
              "      <td>C</td>\n",
              "      <td>C</td>\n",
              "      <td>-1</td>\n",
              "    </tr>\n",
              "    <tr>\n",
              "      <th>374826</th>\n",
              "      <td>29</td>\n",
              "      <td>2</td>\n",
              "      <td>34.3</td>\n",
              "      <td>22</td>\n",
              "      <td>F</td>\n",
              "      <td>E</td>\n",
              "      <td>D</td>\n",
              "      <td>A</td>\n",
              "      <td>D</td>\n",
              "      <td>F</td>\n",
              "      <td>0</td>\n",
              "    </tr>\n",
              "    <tr>\n",
              "      <th>427779</th>\n",
              "      <td>23</td>\n",
              "      <td>2</td>\n",
              "      <td>41.0</td>\n",
              "      <td>24</td>\n",
              "      <td>F</td>\n",
              "      <td>A</td>\n",
              "      <td>A</td>\n",
              "      <td>A</td>\n",
              "      <td>D</td>\n",
              "      <td>D</td>\n",
              "      <td>0</td>\n",
              "    </tr>\n",
              "    <tr>\n",
              "      <th>28048</th>\n",
              "      <td>52</td>\n",
              "      <td>5</td>\n",
              "      <td>37.9</td>\n",
              "      <td>26</td>\n",
              "      <td>F</td>\n",
              "      <td>A</td>\n",
              "      <td>A</td>\n",
              "      <td>A</td>\n",
              "      <td>F</td>\n",
              "      <td>D</td>\n",
              "      <td>0</td>\n",
              "    </tr>\n",
              "    <tr>\n",
              "      <th>238845</th>\n",
              "      <td>31</td>\n",
              "      <td>3</td>\n",
              "      <td>33.5</td>\n",
              "      <td>37</td>\n",
              "      <td>F</td>\n",
              "      <td>B</td>\n",
              "      <td>A</td>\n",
              "      <td>A</td>\n",
              "      <td>D</td>\n",
              "      <td>D</td>\n",
              "      <td>0</td>\n",
              "    </tr>\n",
              "    <tr>\n",
              "      <th>11795</th>\n",
              "      <td>35</td>\n",
              "      <td>3</td>\n",
              "      <td>39.7</td>\n",
              "      <td>29</td>\n",
              "      <td>M</td>\n",
              "      <td>A</td>\n",
              "      <td>A</td>\n",
              "      <td>A</td>\n",
              "      <td>B</td>\n",
              "      <td>B</td>\n",
              "      <td>0</td>\n",
              "    </tr>\n",
              "    <tr>\n",
              "      <th>79969</th>\n",
              "      <td>31</td>\n",
              "      <td>3</td>\n",
              "      <td>25.0</td>\n",
              "      <td>31</td>\n",
              "      <td>F</td>\n",
              "      <td>E</td>\n",
              "      <td>D</td>\n",
              "      <td>A</td>\n",
              "      <td>B</td>\n",
              "      <td>C</td>\n",
              "      <td>-1</td>\n",
              "    </tr>\n",
              "    <tr>\n",
              "      <th>22550</th>\n",
              "      <td>35</td>\n",
              "      <td>3</td>\n",
              "      <td>45.5</td>\n",
              "      <td>23</td>\n",
              "      <td>F</td>\n",
              "      <td>A</td>\n",
              "      <td>A</td>\n",
              "      <td>A</td>\n",
              "      <td>D</td>\n",
              "      <td>D</td>\n",
              "      <td>0</td>\n",
              "    </tr>\n",
              "    <tr>\n",
              "      <th>147991</th>\n",
              "      <td>31</td>\n",
              "      <td>3</td>\n",
              "      <td>45.1</td>\n",
              "      <td>26</td>\n",
              "      <td>F</td>\n",
              "      <td>A</td>\n",
              "      <td>D</td>\n",
              "      <td>A</td>\n",
              "      <td>D</td>\n",
              "      <td>D</td>\n",
              "      <td>0</td>\n",
              "    </tr>\n",
              "    <tr>\n",
              "      <th>199030</th>\n",
              "      <td>42</td>\n",
              "      <td>4</td>\n",
              "      <td>33.1</td>\n",
              "      <td>22</td>\n",
              "      <td>M</td>\n",
              "      <td>A</td>\n",
              "      <td>A</td>\n",
              "      <td>A</td>\n",
              "      <td>C</td>\n",
              "      <td>D</td>\n",
              "      <td>0</td>\n",
              "    </tr>\n",
              "  </tbody>\n",
              "</table>\n",
              "</div>\n",
              "      <button class=\"colab-df-convert\" onclick=\"convertToInteractive('df-f58a31cd-f90e-425c-ac21-e9e966a921cb')\"\n",
              "              title=\"Convert this dataframe to an interactive table.\"\n",
              "              style=\"display:none;\">\n",
              "        \n",
              "  <svg xmlns=\"http://www.w3.org/2000/svg\" height=\"24px\"viewBox=\"0 0 24 24\"\n",
              "       width=\"24px\">\n",
              "    <path d=\"M0 0h24v24H0V0z\" fill=\"none\"/>\n",
              "    <path d=\"M18.56 5.44l.94 2.06.94-2.06 2.06-.94-2.06-.94-.94-2.06-.94 2.06-2.06.94zm-11 1L8.5 8.5l.94-2.06 2.06-.94-2.06-.94L8.5 2.5l-.94 2.06-2.06.94zm10 10l.94 2.06.94-2.06 2.06-.94-2.06-.94-.94-2.06-.94 2.06-2.06.94z\"/><path d=\"M17.41 7.96l-1.37-1.37c-.4-.4-.92-.59-1.43-.59-.52 0-1.04.2-1.43.59L10.3 9.45l-7.72 7.72c-.78.78-.78 2.05 0 2.83L4 21.41c.39.39.9.59 1.41.59.51 0 1.02-.2 1.41-.59l7.78-7.78 2.81-2.81c.8-.78.8-2.07 0-2.86zM5.41 20L4 18.59l7.72-7.72 1.47 1.35L5.41 20z\"/>\n",
              "  </svg>\n",
              "      </button>\n",
              "      \n",
              "  <style>\n",
              "    .colab-df-container {\n",
              "      display:flex;\n",
              "      flex-wrap:wrap;\n",
              "      gap: 12px;\n",
              "    }\n",
              "\n",
              "    .colab-df-convert {\n",
              "      background-color: #E8F0FE;\n",
              "      border: none;\n",
              "      border-radius: 50%;\n",
              "      cursor: pointer;\n",
              "      display: none;\n",
              "      fill: #1967D2;\n",
              "      height: 32px;\n",
              "      padding: 0 0 0 0;\n",
              "      width: 32px;\n",
              "    }\n",
              "\n",
              "    .colab-df-convert:hover {\n",
              "      background-color: #E2EBFA;\n",
              "      box-shadow: 0px 1px 2px rgba(60, 64, 67, 0.3), 0px 1px 3px 1px rgba(60, 64, 67, 0.15);\n",
              "      fill: #174EA6;\n",
              "    }\n",
              "\n",
              "    [theme=dark] .colab-df-convert {\n",
              "      background-color: #3B4455;\n",
              "      fill: #D2E3FC;\n",
              "    }\n",
              "\n",
              "    [theme=dark] .colab-df-convert:hover {\n",
              "      background-color: #434B5C;\n",
              "      box-shadow: 0px 1px 3px 1px rgba(0, 0, 0, 0.15);\n",
              "      filter: drop-shadow(0px 1px 2px rgba(0, 0, 0, 0.3));\n",
              "      fill: #FFFFFF;\n",
              "    }\n",
              "  </style>\n",
              "\n",
              "      <script>\n",
              "        const buttonEl =\n",
              "          document.querySelector('#df-f58a31cd-f90e-425c-ac21-e9e966a921cb button.colab-df-convert');\n",
              "        buttonEl.style.display =\n",
              "          google.colab.kernel.accessAllowed ? 'block' : 'none';\n",
              "\n",
              "        async function convertToInteractive(key) {\n",
              "          const element = document.querySelector('#df-f58a31cd-f90e-425c-ac21-e9e966a921cb');\n",
              "          const dataTable =\n",
              "            await google.colab.kernel.invokeFunction('convertToInteractive',\n",
              "                                                     [key], {});\n",
              "          if (!dataTable) return;\n",
              "\n",
              "          const docLinkHtml = 'Like what you see? Visit the ' +\n",
              "            '<a target=\"_blank\" href=https://colab.research.google.com/notebooks/data_table.ipynb>data table notebook</a>'\n",
              "            + ' to learn more about interactive tables.';\n",
              "          element.innerHTML = '';\n",
              "          dataTable['output_type'] = 'display_data';\n",
              "          await google.colab.output.renderOutput(dataTable, element);\n",
              "          const docLink = document.createElement('div');\n",
              "          docLink.innerHTML = docLinkHtml;\n",
              "          element.appendChild(docLink);\n",
              "        }\n",
              "      </script>\n",
              "    </div>\n",
              "  </div>\n",
              "  "
            ]
          },
          "metadata": {},
          "execution_count": 40
        }
      ]
    },
    {
      "cell_type": "code",
      "source": [
        "X=dbscan_cluster.labels_"
      ],
      "metadata": {
        "id": "szwR-Yw-1OGm"
      },
      "execution_count": 41,
      "outputs": []
    },
    {
      "cell_type": "code",
      "execution_count": 42,
      "metadata": {
        "id": "O6ug3IGORnK_",
        "colab": {
          "base_uri": "https://localhost:8080/"
        },
        "outputId": "9fd8e613-7f26-4a34-fd67-60618c155fcb"
      },
      "outputs": [
        {
          "output_type": "stream",
          "name": "stdout",
          "text": [
            "Estimated number of clusters: 3\n",
            "Estimated number of noise points: 11\n"
          ]
        }
      ],
      "source": [
        "from sklearn import metrics\n",
        "\n",
        "# Number of clusters in labels, ignoring noise if present.\n",
        "n_clusters_ = len(set(X)) - (1 if -1 in X else 0)\n",
        "n_noise_ = list(X).count(-1)\n",
        "\n",
        "print(\"Estimated number of clusters: %d\" % n_clusters_)\n",
        "print(\"Estimated number of noise points: %d\" % n_noise_)"
      ]
    },
    {
      "cell_type": "code",
      "source": [
        "import matplotlib.pyplot as plt\n",
        "# Plot the clusters\n",
        "plt.scatter(distance_matrix[:, 0], distance_matrix[:,1], c = X, cmap= \"plasma\") # plotting the clusters\n",
        "plt.xlabel(\"Income\")\n",
        "plt.ylabel(\"Spending Score\") \n",
        "plt.show() "
      ],
      "metadata": {
        "colab": {
          "base_uri": "https://localhost:8080/",
          "height": 279
        },
        "id": "AOdFsKV73Hzd",
        "outputId": "e5931f95-eab3-4e90-d920-54bb8c04b4ee"
      },
      "execution_count": 58,
      "outputs": [
        {
          "output_type": "display_data",
          "data": {
            "text/plain": [
              "<Figure size 432x288 with 1 Axes>"
            ],
            "image/png": "[encoded data removed]"
          },
          "metadata": {
            "needs_background": "light"
          }
        }
      ]
    }
  ],
  "metadata": {
    "colab": {
      "provenance": [],
      "mount_file_id": "1gsZ-EnyQmJCA8fJ4De2Imxr60-qmQe_4",
      "authorship_tag": "ABX9TyPSa/MswdrYlzC82PEGLhUc",
      "include_colab_link": true
    },
    "kernelspec": {
      "display_name": "Python 3",
      "name": "python3"
    },
    "language_info": {
      "name": "python"
    }
  },
  "nbformat": 4,
  "nbformat_minor": 0
}